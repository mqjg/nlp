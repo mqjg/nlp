{
 "cells": [
  {
   "cell_type": "code",
   "execution_count": 16,
   "metadata": {},
   "outputs": [],
   "source": [
    "import os\n",
    "import json\n",
    "import html\n",
    "import re\n",
    "from bs4 import BeautifulSoup\n",
    "import pandas as pd\n",
    "import numpy as np\n",
    "from sklearn.feature_extraction.text import TfidfVectorizer\n",
    "from sklearn.neighbors import NearestNeighbors\n",
    "from datetime import datetime, timedelta, date\n",
    "import pickle\n",
    "from sklearn.metrics.pairwise import paired_distances\n",
    "import time\n",
    "import random\n",
    "import matplotlib.pyplot as plt\n",
    "import copy"
   ]
  },
  {
   "cell_type": "markdown",
   "metadata": {},
   "source": [
    "# Sorting APS Schedule.\n",
    "\n",
    "The goal of this notebook is to minimize the amount of overlapping similar talks in the APS schedule. To do this, we swap talks according to the metropolis algorithm. The \"energy\" we reduce is some product of the cosine similarity between two abstracts and the amount of time they overlap by.\n",
    "\n",
    "The minimization works the following way: we have three lists. The first contains abstracts for the vectorizer. The second contains the abstracts which we will be sorting, the third contains abstract which overlap in time with the abstracts we are sorting. The first list is a list of dictionaries. This list contains the actual abstracts, time slots, etc... The next two list are just lists of indicies which refer to locations in the first list.\n",
    "\n",
    "Neighbor information is stored in a single dictionary time_slots. When swaps occur, we only need to change the time slot in the first list, and two numbers in the time_slots dictionary. "
   ]
  },
  {
   "cell_type": "markdown",
   "metadata": {},
   "source": [
    "# Formatting the data\n",
    "\n",
    "We will need to create three lists of abstracts. (1) The first list will be used to create the vector space. This list can be as large as as we'd like to try and improve the similarity metrics. (2) The second list will be used to look for overlaps in time and for making similarity comparisons. This one should include only events which occur in the time period the events we will be swapping take place (e.g. if we only swap events that occur between March 15 - March 19, this list does not need an event which occurs on March 20, BUT the event from march 20 could be in the first list, becuase that might improve the vectorizer). (3) This is the list of events we will try to reorganize. It will be events which are only of a certain duration (12 minutes, 36 minutes etc).\n",
    "\n",
    "Note each list is a subset of the last list."
   ]
  },
  {
   "cell_type": "code",
   "execution_count": 17,
   "metadata": {},
   "outputs": [],
   "source": [
    "\"\"\"\n",
    "This takes a string and removes html tags from it.\n",
    "\"\"\"\n",
    "def cleanhtml(raw_html):\n",
    "  cleanr = re.compile('<.*?>') #Build re object that looks for html like tags.\n",
    "  cleantext = re.sub(cleanr, '', raw_html)\n",
    "  return cleantext"
   ]
  },
  {
   "cell_type": "markdown",
   "metadata": {},
   "source": [
    "## List of talks for composing vectorizer\n",
    "\n",
    "This is the list of abstract we will use to create the vectorizer. We will also use this as a reference when we need information like the time_slot or the abstract. The order of this list will not change, since we will refer to its elements using indicies later on. Each event dictionary needs an id, the index position in the list, the cleaned abstract, and the time interval."
   ]
  },
  {
   "cell_type": "markdown",
   "metadata": {
    "jupyter": {
     "source_hidden": true
    }
   },
   "source": [
    "The original JSON file is formatted as shown below.\n",
    "\n",
    "    {'meeting':\n",
    "         {'id':308,\n",
    "          'code':MAR20,\n",
    "          'title':'APS March Meeting 2020'\n",
    "          'location':{'city': 'Denver', 'state': 'Colorado', 'country': None},\n",
    "          'dates':{'starts_on':'2020-03-02','ends_on':'2020-03-06','submission_open_on':'2019-07-01','submission_close_on': '2019-07-02'},\n",
    "          'description': None ,\n",
    "          'url': https://www.aps.org/meetings/march/,\n",
    "          'events':\n",
    "             [{'type': 'FocusSession',\n",
    "               'id': 'A10',\n",
    "               'code': 'A10',\n",
    "               'title': 'THIS IS THE SESSION TITLE',\n",
    "               'description': None,\n",
    "               'tags': 'Focus,GIMS', <---THESE ARE THE TAGS ASSOCAITED WITH THE SESSION\n",
    "               'sort_number': 200,\n",
    "               'time_slot': {'starts_at': '2020-03-02T08:00', 'ends_at': '2020-03-02T10:12'},\n",
    "               'location': {'building': None, 'room': 108},\n",
    "               'chair': None,\n",
    "               'abstract_presentations':\n",
    "                   {'abstract_presentation_id': 369401,\n",
    "                    'time_slot': {'starts_at': '2020-03-02T08:12', 'ends_at': '2020-03-02T08:24'},\n",
    "                    'order': 2,\n",
    "                    'presenter':{'presenter_id':14,'first_name':'D','middle_name':'','last_name':'C','affiliation':'U'},\n",
    "                    'abstract': \n",
    "                        {'abstract_id': 324228,\n",
    "                         'log_number': 'MAR20-3273737',\n",
    "                         'title': 'THIS IS THE ACTUAL TALK TITLE',\n",
    "                         'content': \n",
    "                             {format': 'HTML',\n",
    "                             'abstract': 'THIS IS THE ACTUAL ABSTRACT'}\n",
    "                         'tags': None,\n",
    "                         'link': None,\n",
    "                         'is_invited': False,\n",
    "                         'title_note': 'Funding was provided by ...',\n",
    "                         'submitter':{'first_name':'D','last_name':'C','affiliation':'Univ','email':'mail.com','member_id':6},\n",
    "                         'authors': \n",
    "                             [{'author_id': 1496031,\n",
    "                               'first_name':'D',\n",
    "                               'middle_name': '',\n",
    "                               'last_name': 'C',\n",
    "                               'affiliation': 'Univ',\n",
    "                               'email': 'd.collomb@bath.ac.uk',\n",
    "                               'image_url': None}, ...],\n",
    "                         'teams': None}}}...]\n",
    "\n",
    "We'd like to convert the 2021 abstract json file to the following format:\n",
    "\n",
    "    {'_id':\"2019_MARCH_K49_9\",\n",
    "     'index': 54\n",
    "     'cleanAbstract': 'Current ionic liquid .......',\n",
    "     'time_slot':[datetime.datetime(2021, 3, 17, 8, 36), datetime.datetime(2021, 3, 17, 8, 48)]}"
   ]
  },
  {
   "cell_type": "code",
   "execution_count": 147,
   "metadata": {},
   "outputs": [],
   "source": [
    "path = \"MAR21_Bulletin_2021-01-13T15-19-18.json\" #if you move this json file or the notebook itself the path will be invalid 😃\n",
    "\n",
    "#Read in the raw json file\n",
    "with open(path,\"r\",encoding='utf_8') as file:\n",
    "    abstractsRawJSON = file.read()\n",
    "\n",
    "abstractsRaw = json.loads(abstractsRawJSON)"
   ]
  },
  {
   "cell_type": "code",
   "execution_count": 19,
   "metadata": {},
   "outputs": [
    {
     "data": {
      "text/plain": [
       "'Using 10809 / 10809 abstracts'"
      ]
     },
     "execution_count": 19,
     "metadata": {},
     "output_type": "execute_result"
    }
   ],
   "source": [
    "#Here we iterate through the json file and grab the stuff we want. The json files are imported as dictionaries.\n",
    "minLength = 0\n",
    "total = 0\n",
    "index = 0\n",
    "abstracts = [] #this one will have its elements manipulated\n",
    "for event in abstractsRaw['meeting']['events']:\n",
    "    for presentation in event['abstract_presentations']:\n",
    "        total += 1\n",
    "        _id = \"2021_MARCH_\" + event['id'] +\"_\"+ str(presentation['order'])\n",
    "        title = presentation['abstract']['title']\n",
    "        abstract = presentation['abstract']['content']['abstract']\n",
    "        \n",
    "        time_slot = [datetime.strptime(presentation['time_slot']['starts_at'], '%Y-%m-%dT%H:%M'),datetime.strptime(presentation['time_slot']['ends_at'], '%Y-%m-%dT%H:%M')]\n",
    "        startTime = time_slot[0]\n",
    "        endTime = time_slot[1]\n",
    "        \n",
    "        if len(abstract) >= minLength:\n",
    "            eventDict = {}\n",
    "            eventDict['_id'] = _id\n",
    "            eventDict['index'] = index\n",
    "            eventDict['cleanAbstract'] = html.unescape(cleanhtml(title +\" \"+ abstract)).strip() #Here we clean any html tags from the abstract and title. This is the text we'll use in our vectorizer.\n",
    "            eventDict['time_slot'] = time_slot\n",
    "            \n",
    "            abstracts.append(eventDict)\n",
    "            index += 1\n",
    "abstractsStatic = copy.deepcopy(abstracts) #This list will remain unchanged\n",
    "f\"Using {len(abstracts)} / {total} abstracts\""
   ]
  },
  {
   "cell_type": "code",
   "execution_count": 20,
   "metadata": {},
   "outputs": [
    {
     "data": {
      "text/html": [
       "<div>\n",
       "<style scoped>\n",
       "    .dataframe tbody tr th:only-of-type {\n",
       "        vertical-align: middle;\n",
       "    }\n",
       "\n",
       "    .dataframe tbody tr th {\n",
       "        vertical-align: top;\n",
       "    }\n",
       "\n",
       "    .dataframe thead th {\n",
       "        text-align: right;\n",
       "    }\n",
       "</style>\n",
       "<table border=\"1\" class=\"dataframe\">\n",
       "  <thead>\n",
       "    <tr style=\"text-align: right;\">\n",
       "      <th></th>\n",
       "      <th>_id</th>\n",
       "      <th>index</th>\n",
       "      <th>cleanAbstract</th>\n",
       "      <th>time_slot</th>\n",
       "    </tr>\n",
       "  </thead>\n",
       "  <tbody>\n",
       "    <tr>\n",
       "      <th>0</th>\n",
       "      <td>2021_MARCH_2A_1</td>\n",
       "      <td>0</td>\n",
       "      <td>DPOLY Short Course: Macromolecular Engineering...</td>\n",
       "      <td>[2021-03-13 08:30:00, 2021-03-13 15:15:00]</td>\n",
       "    </tr>\n",
       "    <tr>\n",
       "      <th>1</th>\n",
       "      <td>2021_MARCH_3A_1</td>\n",
       "      <td>1</td>\n",
       "      <td>T1. Density Functional Theory Density Function...</td>\n",
       "      <td>[2021-03-14 08:30:00, 2021-03-14 12:30:00]</td>\n",
       "    </tr>\n",
       "    <tr>\n",
       "      <th>2</th>\n",
       "      <td>2021_MARCH_3B_1</td>\n",
       "      <td>2</td>\n",
       "      <td>T2. Active Learning and AI for Computational a...</td>\n",
       "      <td>[2021-03-14 08:30:00, 2021-03-14 12:30:00]</td>\n",
       "    </tr>\n",
       "    <tr>\n",
       "      <th>3</th>\n",
       "      <td>2021_MARCH_3C_1</td>\n",
       "      <td>3</td>\n",
       "      <td>T3. Noisy Quantum Devices The last few years h...</td>\n",
       "      <td>[2021-03-14 08:30:00, 2021-03-14 12:30:00]</td>\n",
       "    </tr>\n",
       "    <tr>\n",
       "      <th>4</th>\n",
       "      <td>2021_MARCH_3D_1</td>\n",
       "      <td>4</td>\n",
       "      <td>T4. Fermi-Hubbard Systems TBD</td>\n",
       "      <td>[2021-03-14 08:30:00, 2021-03-14 12:30:00]</td>\n",
       "    </tr>\n",
       "  </tbody>\n",
       "</table>\n",
       "</div>"
      ],
      "text/plain": [
       "               _id  index                                      cleanAbstract  \\\n",
       "0  2021_MARCH_2A_1      0  DPOLY Short Course: Macromolecular Engineering...   \n",
       "1  2021_MARCH_3A_1      1  T1. Density Functional Theory Density Function...   \n",
       "2  2021_MARCH_3B_1      2  T2. Active Learning and AI for Computational a...   \n",
       "3  2021_MARCH_3C_1      3  T3. Noisy Quantum Devices The last few years h...   \n",
       "4  2021_MARCH_3D_1      4                      T4. Fermi-Hubbard Systems TBD   \n",
       "\n",
       "                                    time_slot  \n",
       "0  [2021-03-13 08:30:00, 2021-03-13 15:15:00]  \n",
       "1  [2021-03-14 08:30:00, 2021-03-14 12:30:00]  \n",
       "2  [2021-03-14 08:30:00, 2021-03-14 12:30:00]  \n",
       "3  [2021-03-14 08:30:00, 2021-03-14 12:30:00]  \n",
       "4  [2021-03-14 08:30:00, 2021-03-14 12:30:00]  "
      ]
     },
     "execution_count": 20,
     "metadata": {},
     "output_type": "execute_result"
    }
   ],
   "source": [
    "abstracts_df = pd.DataFrame(abstracts) #Convert list of dictionaries to dataframe\n",
    "abstracts_df.head()"
   ]
  },
  {
   "cell_type": "markdown",
   "metadata": {},
   "source": [
    "## List of talks for identifying temporal overlaps and computing similarity scores\n",
    "\n",
    "This is a list of indicies. This list contains all the events which overlap in time with events in the subsequent list. We will use this list of abstract comparison and computing temporal overlaps.\n",
    "\n",
    "The list is of the form: [4605, 4606, 4607, 4608,...]"
   ]
  },
  {
   "cell_type": "code",
   "execution_count": 21,
   "metadata": {},
   "outputs": [
    {
     "data": {
      "text/plain": [
       "'Using 736 / 10809 abstracts'"
      ]
     },
     "execution_count": 21,
     "metadata": {},
     "output_type": "execute_result"
    }
   ],
   "source": [
    "#Here we iterate through the list of event dictionaries and grab the indicies of the talks which occur between certain dates.\n",
    "startDate = datetime(2021,3,17,hour=8) #This is the start time of the first 12 minute talk\n",
    "endDate = datetime(2021,3,17,hour=11)\n",
    "\n",
    "#datetime(2021,3,19,hour=13,minute=33) #This is the end time of the last 12 minute talk\n",
    "\n",
    "total = 0\n",
    "abstractsForComparison = []\n",
    "for i in range(len(abstracts)):\n",
    "    total += 1\n",
    "    event = abstracts[i]\n",
    "    time_slot = event['time_slot']\n",
    "    startTime = time_slot[0]\n",
    "    endTime = time_slot[1]\n",
    "\n",
    "    if endTime > startDate and startTime < endDate:\n",
    "        abstractsForComparison.append(i)\n",
    "        \n",
    "f\"Using {len(abstractsForComparison)} / {total} abstracts\""
   ]
  },
  {
   "cell_type": "markdown",
   "metadata": {},
   "source": [
    "## List of talks for sorting\n",
    "\n",
    "This is a list of indicies. This is the actual list of talks that will be sorted. For now, we will restrict the length to just the 12 minutes talks so we don't have to worry about different sized time slots. \n",
    "\n",
    "The list is of the form: [4605, 4606, 4607, 4608,...]"
   ]
  },
  {
   "cell_type": "code",
   "execution_count": 22,
   "metadata": {},
   "outputs": [
    {
     "data": {
      "text/plain": [
       "'Using 649 / 10809 abstracts'"
      ]
     },
     "execution_count": 22,
     "metadata": {},
     "output_type": "execute_result"
    }
   ],
   "source": [
    "#Here we iterate through the list of event dictionaries and grab the indicies of the talks which occur between certain dates and are a certain length.\n",
    "minLength = 0\n",
    "#startDate = datetime(2021,3,15,hour=8) #This is the start time of the first 12 minute talk\n",
    "#endDate = datetime(2021,3,19,hour=13,minute=33) #This is the end time of the last 12 minute talk\n",
    "allowedDurations = [timedelta(hours=0,minutes=12)]\n",
    "\n",
    "total = 0\n",
    "abstractsForSorting = []\n",
    "for i in range(len(abstracts)):\n",
    "    total += 1\n",
    "    event = abstracts[i]\n",
    "    time_slot = event['time_slot']\n",
    "    startTime = time_slot[0]\n",
    "    endTime = time_slot[1]\n",
    "    duration = endTime - startTime\n",
    "\n",
    "    if endTime > startDate and startTime < endDate and duration in allowedDurations:\n",
    "        abstractsForSorting.append(i)\n",
    "\n",
    "f\"Using {len(abstractsForSorting)} / {total} abstracts\""
   ]
  },
  {
   "cell_type": "code",
   "execution_count": 23,
   "metadata": {},
   "outputs": [],
   "source": [
    "N = len(abstractsForSorting) #The number of abstracts we are sorting"
   ]
  },
  {
   "cell_type": "markdown",
   "metadata": {},
   "source": [
    "## Relating similar talks\n",
    "\n",
    "Here we plug the abstracts into a tfidf vecotrizer to create a weighted document term matrix (a big matrix of word frequencies weighted by the importance of each word). Then we relate find similar talks by taking the cosine of each vector in the document term matrix. We do this using a convient nearest nieghbor method. "
   ]
  },
  {
   "cell_type": "code",
   "execution_count": 24,
   "metadata": {},
   "outputs": [],
   "source": [
    "vectorizerOps = {'max_features': None, #consider only top N words for vocabulary, None does not limit\n",
    "                 'min_df': .005, #minmum percent of docs needed to have a word for it to be considered (ignoring very rare words)\n",
    "                 'max_df': .90, #maximum percent of docs needed to have a word for it to be ignored (ignoring very common words)\n",
    "                 'ngram_range':(1,4), #length of words combinations to look for \n",
    "                 'stop_words':'english'} #special list of words to be ignored (words like 'the' or 'is')"
   ]
  },
  {
   "cell_type": "code",
   "execution_count": 25,
   "metadata": {},
   "outputs": [],
   "source": [
    "#Converting data into a word frequency vector space\n",
    "v = TfidfVectorizer(**vectorizerOps)"
   ]
  },
  {
   "cell_type": "code",
   "execution_count": 26,
   "metadata": {},
   "outputs": [
    {
     "name": "stdout",
     "output_type": "stream",
     "text": [
      "Vector space is composed of 3217 features.\n"
     ]
    }
   ],
   "source": [
    "#This is just a mtrix of word freuncies for every document.\n",
    "embedding = v.fit_transform(abstracts_df['cleanAbstract']) #Docs are rows, vocab is columns. embedding[i] gets ith row\n",
    "print(f\"Vector space is composed of {len(v.get_feature_names())} features.\")"
   ]
  },
  {
   "cell_type": "markdown",
   "metadata": {},
   "source": [
    "# Finding time interval overlaps\n",
    "\n",
    "We need to be able to tell if two talks overlap. The function below accomplishes this."
   ]
  },
  {
   "cell_type": "code",
   "execution_count": 27,
   "metadata": {},
   "outputs": [],
   "source": [
    "\"\"\"\n",
    "Returns True if the time intervals interval1 and interval 2 overlap. Events which start or end at the same time are NOT \n",
    "considered to overlap\n",
    "\n",
    "inputs:\n",
    "interval1 is a two element list. Both elements are datetime objects. The first element is assumed to be before the second.\n",
    "interval2 is a two element list. Both elements are datetime objects. The first element is assumed to be before the second.\n",
    "\n",
    "output\n",
    "boolean True is intervals overlap, false otherwise.\n",
    "\"\"\"\n",
    "def overlapQ(interval1,interval2, buffer = 0):\n",
    "    s1 = interval1[0]\n",
    "    e1 = interval1[1]\n",
    "    s2 = interval2[0]\n",
    "    e2 = interval2[1]\n",
    "    if s1 >= e2: #1 starts after 2 ends\n",
    "        return False\n",
    "    else: #1 starts before 2 ends\n",
    "        if s1 >= s2: #1 starts after 2 starts or they start at the same time\n",
    "            return True\n",
    "        else: #1 starts before 2\n",
    "            if e1 <= s2: #1 ends before 2 starts or 1 ends when 2 starts\n",
    "                return False\n",
    "            else: #1 ends after 2 starts\n",
    "                return True"
   ]
  },
  {
   "cell_type": "code",
   "execution_count": 28,
   "metadata": {},
   "outputs": [
    {
     "data": {
      "text/plain": [
       "False"
      ]
     },
     "execution_count": 28,
     "metadata": {},
     "output_type": "execute_result"
    }
   ],
   "source": [
    "time1 = [datetime.strptime('2020-03-02T08:00', '%Y-%m-%dT%H:%M'),datetime.strptime('2020-03-02T09:00', '%Y-%m-%dT%H:%M')]\n",
    "time2 = [datetime.strptime('2020-03-02T09:00', '%Y-%m-%dT%H:%M'),datetime.strptime('2020-03-02T10:00', '%Y-%m-%dT%H:%M')]\n",
    "overlapQ(time1,time2)"
   ]
  },
  {
   "cell_type": "code",
   "execution_count": 29,
   "metadata": {},
   "outputs": [
    {
     "data": {
      "text/plain": [
       "True"
      ]
     },
     "execution_count": 29,
     "metadata": {},
     "output_type": "execute_result"
    }
   ],
   "source": [
    "time1 = [datetime.strptime('2020-03-02T08:00', '%Y-%m-%dT%H:%M'),datetime.strptime('2020-03-02T09:30', '%Y-%m-%dT%H:%M')]\n",
    "time2 = [datetime.strptime('2020-03-02T09:00', '%Y-%m-%dT%H:%M'),datetime.strptime('2020-03-02T10:00', '%Y-%m-%dT%H:%M')]\n",
    "overlapQ(time1,time2)"
   ]
  },
  {
   "cell_type": "code",
   "execution_count": 30,
   "metadata": {},
   "outputs": [],
   "source": [
    "\"\"\"\n",
    "Returns amount of time interval1 and interval 2 overlap by. Events which start or end at the same time are NOT \n",
    "considered to overlap.\n",
    "\n",
    "inputs:\n",
    "interval1 is a two element list. Both elements are datetime objects. The first element is assumed to be before the second.\n",
    "interval2 is a two element list. Both elements are datetime objects. The first element is assumed to be before the second.\n",
    "\n",
    "output\n",
    "Returns a floating point number greater than or equal to zero. \n",
    "\"\"\"\n",
    "def overlap(interval1,interval2, buffer = 0):\n",
    "    if overlapQ(interval1,interval2):\n",
    "        s1 = interval1[0]\n",
    "        e1 = interval1[1]\n",
    "        s2 = interval2[0]\n",
    "        e2 = interval2[1]\n",
    "        \n",
    "        latestStart = max(s1,s2)\n",
    "        earliestEnd = min(e1,e2)\n",
    "        \n",
    "        return earliestEnd-latestStart\n",
    "    else:\n",
    "        return timedelta() #zero seconds"
   ]
  },
  {
   "cell_type": "code",
   "execution_count": 31,
   "metadata": {},
   "outputs": [
    {
     "data": {
      "text/plain": [
       "0.0"
      ]
     },
     "execution_count": 31,
     "metadata": {},
     "output_type": "execute_result"
    }
   ],
   "source": [
    "time1 = [datetime.strptime('2020-03-02T08:00', '%Y-%m-%dT%H:%M'),datetime.strptime('2020-03-02T09:00', '%Y-%m-%dT%H:%M')]\n",
    "time2 = [datetime.strptime('2020-03-02T09:00', '%Y-%m-%dT%H:%M'),datetime.strptime('2020-03-02T10:00', '%Y-%m-%dT%H:%M')]\n",
    "overlap(time1,time2).total_seconds()/3600 #amount of overlap in hours"
   ]
  },
  {
   "cell_type": "code",
   "execution_count": 32,
   "metadata": {},
   "outputs": [
    {
     "data": {
      "text/plain": [
       "0.5"
      ]
     },
     "execution_count": 32,
     "metadata": {},
     "output_type": "execute_result"
    }
   ],
   "source": [
    "time1 = [datetime.strptime('2020-03-02T08:00', '%Y-%m-%dT%H:%M'),datetime.strptime('2020-03-02T09:30', '%Y-%m-%dT%H:%M')]\n",
    "time2 = [datetime.strptime('2020-03-02T09:00', '%Y-%m-%dT%H:%M'),datetime.strptime('2020-03-02T10:00', '%Y-%m-%dT%H:%M')]\n",
    "overlap(time1,time2).total_seconds()/3600 #amount of overlap in hours"
   ]
  },
  {
   "cell_type": "markdown",
   "metadata": {},
   "source": [
    "## Creating a seperate list of time slots and the talks which overlap with each.\n",
    "\n",
    "We would like to make a dictionary of the form:\n",
    "\n",
    "    {'2021-03-17 08:36:00--2021-03-17 08:48:00': [4606,4611,...],\n",
    "     '2021-03-17 08:24:00--2021-03-17 08:36:00': [4605,4609,...]...}\n",
    "\n",
    "where the keys are time intervals and the lists are all the talks which occur at those times. The keys will be composed of all the time intervals which occur for talks included in abstractsForSorting. The list of indicies will include all talks in abstractsForComparison."
   ]
  },
  {
   "cell_type": "code",
   "execution_count": 33,
   "metadata": {},
   "outputs": [],
   "source": [
    "\"\"\"\n",
    "Takes a string time interval of the form '2021-03-17 08:36:00--2021-03-17 08:48:00' and converts it into a list of two datetime objects of the form [datetime.datetime(2021, 3, 17, 8, 36), datetime.datetime(2021, 3, 17, 8, 48)]\n",
    "\"\"\"\n",
    "def convertIntervalString(intervalString):\n",
    "    return [datetime.strptime(time, '%Y-%m-%d %H:%M:%S') for time in intervalString.split(\"--\")]\n",
    "\n",
    "\"\"\"\n",
    "Takes a list of two datetime objects of the form [datetime.datetime(2021, 3, 17, 8, 36), datetime.datetime(2021, 3, 17, 8, 48)] and converts it into a string of the form '2021-03-17 08:36:00--2021-03-17 08:48:00'\n",
    "\"\"\"\n",
    "def createIntervalString(interval):\n",
    "    return f\"{interval[0]}--{interval[1]}\""
   ]
  },
  {
   "cell_type": "code",
   "execution_count": 34,
   "metadata": {},
   "outputs": [],
   "source": [
    "#Create a dictionary whihc has all the avaible timeslots for talks we plan to sort\n",
    "time_slots = {}\n",
    "for i in abstractsForSorting:\n",
    "    interval = abstracts[i]['time_slot']\n",
    "    intervalString = createIntervalString(interval)\n",
    "    if intervalString not in time_slots:\n",
    "        time_slots[intervalString] = []\n",
    "\n",
    "#Fill the dictionary with all the talks which occur in those timeslots. This is essentially a neighbor map.\n",
    "for i in abstractsForComparison:\n",
    "    afcInterval = abstracts[i]['time_slot'] #This is an interval from abstractsForComparison\n",
    "    for time_slot in time_slots:\n",
    "        afsInterval = convertIntervalString(time_slot) #This is an interval from abstractsForSorting\n",
    "        if overlapQ(afsInterval,afcInterval): \n",
    "            time_slots[time_slot].append(i)\n",
    "time_slotsStatic = copy.deepcopy(time_slots) #this copy will remain unchanged"
   ]
  },
  {
   "cell_type": "code",
   "execution_count": 151,
   "metadata": {},
   "outputs": [
    {
     "data": {
      "text/plain": [
       "'2021-03-17 08:36:00--2021-03-17 08:48:00'"
      ]
     },
     "execution_count": 151,
     "metadata": {},
     "output_type": "execute_result"
    }
   ],
   "source": [
    "createIntervalString(abstracts[4663]['time_slot'])"
   ]
  },
  {
   "cell_type": "code",
   "execution_count": 152,
   "metadata": {},
   "outputs": [
    {
     "data": {
      "text/plain": [
       "[datetime.datetime(2021, 3, 17, 8, 36), datetime.datetime(2021, 3, 17, 8, 48)]"
      ]
     },
     "execution_count": 152,
     "metadata": {},
     "output_type": "execute_result"
    }
   ],
   "source": [
    "convertIntervalString(createIntervalString(abstracts[4663]['time_slot']))"
   ]
  },
  {
   "cell_type": "code",
   "execution_count": 35,
   "metadata": {},
   "outputs": [
    {
     "name": "stdout",
     "output_type": "stream",
     "text": [
      "[4606, 4611, 4622, 4635, 4650, 4663, 4676, 4691, 4699, 4706, 4719, 4732, 4744, 4757, 4769, 4776, 4788, 4799, 4805, 4814, 4827, 4837, 4851, 4864, 4877, 4886, 4894, 4907, 4920, 4934, 4948, 4961, 4976, 4989, 5001, 5008, 5020, 5030, 5043, 5054, 5069, 5084, 5099, 5114, 5129, 5143, 5157, 5172, 5182, 5187, 5193, 5206, 5219, 5228, 5240, 5253, 5264, 5274, 5281, 5294, 5306, 5315, 5320, 5332]\n"
     ]
    }
   ],
   "source": [
    "print(time_slots[createIntervalString(abstracts[4663]['time_slot'])])"
   ]
  },
  {
   "cell_type": "markdown",
   "metadata": {},
   "source": [
    "# Cost Function\n",
    "\n",
    "We need a function which will compute the cost of two overlapping events. The cost function should be proportional to the amount of time the events overlap and their similarity."
   ]
  },
  {
   "cell_type": "code",
   "execution_count": 36,
   "metadata": {},
   "outputs": [],
   "source": [
    "\"\"\"\n",
    "Takes two event dictionaries and computes the cost of them as is.\n",
    "Cost is computed as the amount of time two talks overlap by in \n",
    "hours multiplied by the cosine similarity between thier abstracts.\n",
    "\n",
    "Inputs:\n",
    "event1: This is an event dictionary formatted like:\n",
    "        {'_id':\"2019_MARCH_K49_9\",\n",
    "         'index': 54\n",
    "         'cleanAbstract': 'Current ionic liquid .......',\n",
    "         'time_slot':[datetime.datetime(2021, 3, 17, 8, 36), datetime.datetime(2021, 3, 17, 8, 48)]}\n",
    "         \n",
    "event2: This is another event formatted the same way.\n",
    "\n",
    "returns a floating point number\n",
    "\"\"\"\n",
    "def singleCost(event1, event2):\n",
    "    interval1 = event1['time_slot']\n",
    "    interval2 = event2['time_slot']\n",
    "    duration = overlap(interval1,interval2).total_seconds()/3600 #amount of overlap in hours\n",
    "    \n",
    "    index1 = event1['index']\n",
    "    index2 = event2['index']\n",
    "    \n",
    "    similarity = 1-paired_distances(embedding[index1],embedding[index2], metric='cosine')[0] #how similar the talks are\n",
    "\n",
    "    if similarity<0:\n",
    "        similarity = 0.0\n",
    "    \n",
    "    return duration*similarity"
   ]
  },
  {
   "cell_type": "code",
   "execution_count": 37,
   "metadata": {},
   "outputs": [
    {
     "data": {
      "text/plain": [
       "0.0010289408023736568"
      ]
     },
     "execution_count": 37,
     "metadata": {},
     "output_type": "execute_result"
    }
   ],
   "source": [
    "singleCost(abstracts[4663],abstracts[4606])"
   ]
  },
  {
   "cell_type": "code",
   "execution_count": 153,
   "metadata": {},
   "outputs": [],
   "source": [
    "\"\"\"\n",
    "Compute the cost of the current position of an event. This is the sum of singleCost for all the talks\n",
    "which overlap with event according to the neighbor list time_slots.\n",
    "\n",
    "Inputs:\n",
    "event: This is an event dictionary formatted like:\n",
    "        {'_id':\"2019_MARCH_K49_9\",\n",
    "         'index': 54\n",
    "         'cleanAbstract': 'Current ionic liquid .......',\n",
    "         'time_slot':[datetime.datetime(2021, 3, 17, 8, 36), datetime.datetime(2021, 3, 17, 8, 48)]}\n",
    "\n",
    "time_slotsDic: Dictionary of time slots and the indicies of talks associated with them.\n",
    "            the defualt option time_slots changes when swaps are made during the minimization.\n",
    "            there is also time_slotsStatic which is left with the original set of indicies.\n",
    "            the dictionary is of the form\n",
    "            \n",
    "            {'2021-03-17 08:36:00--2021-03-17 08:48:00': [4606,4611,...],\n",
    "             '2021-03-17 08:24:00--2021-03-17 08:36:00': [4605,4609,...]...}\n",
    "             \n",
    "abstractsList: list of event dictionaries of the form [event1,event2,...] where each event is formatted as\n",
    "               described above. The defualt options abstracts changes when swaps are made during the minimization.\n",
    "               there is also abstractsStatic which is left unchanged.\n",
    "               \n",
    "returns a floating point number\n",
    "\"\"\"\n",
    "def cost(event,time_slotsDic=time_slots,abstractsList=abstracts):\n",
    "    i = event['index']\n",
    "    interval = event['time_slot']\n",
    "    intervalString = createIntervalString(interval)\n",
    "    neighbors = time_slotsDic[intervalString]\n",
    "    costs = [singleCost(event,abstractsList[j]) if i!=j else 0 for j in neighbors]\n",
    "    return sum(costs)"
   ]
  },
  {
   "cell_type": "code",
   "execution_count": 39,
   "metadata": {},
   "outputs": [
    {
     "data": {
      "text/plain": [
       "0.18290786901725026"
      ]
     },
     "execution_count": 39,
     "metadata": {},
     "output_type": "execute_result"
    }
   ],
   "source": [
    "cost(abstracts[4663])"
   ]
  },
  {
   "cell_type": "code",
   "execution_count": 40,
   "metadata": {},
   "outputs": [
    {
     "data": {
      "text/plain": [
       "0.18290786901725026"
      ]
     },
     "execution_count": 40,
     "metadata": {},
     "output_type": "execute_result"
    }
   ],
   "source": [
    "cost(abstracts[4663],time_slotsDic=time_slotsStatic, abstractsList=abstractsStatic)"
   ]
  },
  {
   "cell_type": "code",
   "execution_count": 41,
   "metadata": {},
   "outputs": [],
   "source": [
    "\"\"\"\n",
    "return the total cost of the current ordering of talks. \n",
    "Uses time_slots and abstracts objects which change \n",
    "during the minimization.\n",
    "\n",
    "returns a floating point number.\n",
    "\"\"\"\n",
    "def totalCost():\n",
    "    return 0.5*sum([cost(abstracts[i]) for i in abstractsForSorting])"
   ]
  },
  {
   "cell_type": "code",
   "execution_count": 42,
   "metadata": {},
   "outputs": [
    {
     "data": {
      "text/plain": [
       "124.30242640065906"
      ]
     },
     "execution_count": 42,
     "metadata": {},
     "output_type": "execute_result"
    }
   ],
   "source": [
    "#This takes a very long time to run\n",
    "#totalCost()"
   ]
  },
  {
   "cell_type": "code",
   "execution_count": 43,
   "metadata": {},
   "outputs": [],
   "source": [
    "\"\"\"\n",
    "Computes the cost of two talks if one were to occur at a different time. \n",
    "Intended use case is to pass some event1, the interval of some other event2, \n",
    "and then some third event3 which occurs at the same time as event2.\n",
    "\n",
    "Inputs:\n",
    "event1: This is an event dictionary formatted like:\n",
    "        {'_id':\"2019_MARCH_K49_9\",\n",
    "         'index': 54\n",
    "         'cleanAbstract': 'Current ionic liquid .......',\n",
    "         'time_slot':[datetime.datetime(2021, 3, 17, 8, 36), datetime.datetime(2021, 3, 17, 8, 48)]}\n",
    "\n",
    "interval1: This is a list of datetime objects of the form [datetime.datetime(2021, 3, 17, 8, 36), datetime.datetime(2021, 3, 17, 8, 48)]\n",
    "         \n",
    "event2: This is another event formatted the same way.\n",
    "\n",
    "returns a floating point number.\n",
    "\"\"\"\n",
    "def singleSwapCost(event1, interval1, event2):\n",
    "    interval2 = event2['time_slot']\n",
    "    duration = overlap(interval1,interval2).total_seconds()/3600 #amount of overlap in hours\n",
    "    \n",
    "    index1 = event1['index']\n",
    "    index2 = event2['index']\n",
    "    \n",
    "    similarity = 1-paired_distances(embedding[index1],embedding[index2], metric='cosine')[0] #how similar the talks are\n",
    "\n",
    "    if similarity<0:\n",
    "        similarity = 0.0\n",
    "    \n",
    "    return duration*similarity"
   ]
  },
  {
   "cell_type": "code",
   "execution_count": 44,
   "metadata": {},
   "outputs": [
    {
     "data": {
      "text/plain": [
       "0.028453256340519564"
      ]
     },
     "execution_count": 44,
     "metadata": {},
     "output_type": "execute_result"
    }
   ],
   "source": [
    "singleSwapCost(abstracts[4000],abstracts[4663]['time_slot'],abstracts[4606])"
   ]
  },
  {
   "cell_type": "code",
   "execution_count": 45,
   "metadata": {},
   "outputs": [],
   "source": [
    "\"\"\"\n",
    "Computes the total cost of swapping two events.\n",
    "\n",
    "Inputs:\n",
    "event1: This is an event dictionary formatted like:\n",
    "        {'_id':\"2019_MARCH_K49_9\",\n",
    "         'index': 54\n",
    "         'cleanAbstract': 'Current ionic liquid .......',\n",
    "         'time_slot':[datetime.datetime(2021, 3, 17, 8, 36), datetime.datetime(2021, 3, 17, 8, 48)]}\n",
    "\n",
    "event2: This is another event formatted the same way.\n",
    "\n",
    "returns a floating point number.\n",
    "\"\"\"\n",
    "def swapCost(event1,event2):\n",
    "    index1 = event1['index']\n",
    "    index2 = event2['index']\n",
    "    \n",
    "    interval1 = event1['time_slot']\n",
    "    interval2 = event2['time_slot']\n",
    "    \n",
    "    neighbors1 = time_slots[createIntervalString(interval1)]\n",
    "    neighbors2 = time_slots[createIntervalString(interval2)]\n",
    "    \n",
    "    cost1 = sum([singleSwapCost(event1,interval2,abstracts[j]) if index1!=j and index2!=j else 0 for j in neighbors2])\n",
    "    cost2 = sum([singleSwapCost(event2,interval1,abstracts[j]) if index1!=j and index2!=j else 0 for j in neighbors1])\n",
    "    \n",
    "    return (cost1,cost2)"
   ]
  },
  {
   "cell_type": "code",
   "execution_count": 50,
   "metadata": {},
   "outputs": [
    {
     "data": {
      "text/plain": [
       "(0.1799480576898917, 0.3365878403870761)"
      ]
     },
     "execution_count": 50,
     "metadata": {},
     "output_type": "execute_result"
    }
   ],
   "source": [
    "swapCost(abstracts[4663],abstracts[4664])"
   ]
  },
  {
   "cell_type": "markdown",
   "metadata": {},
   "source": [
    "# Swap Function\n",
    "\n",
    "This is a function which will (efficiently?) swap event informoartion in the bastract list of dictionaries. The information we will need to change would be the times, the cost, and the nieghbors. We will also need to go to each of the nieghbors and update thier neighbor list."
   ]
  },
  {
   "cell_type": "code",
   "execution_count": 47,
   "metadata": {},
   "outputs": [],
   "source": [
    "\"\"\"\n",
    "Swaps two events. Swaps the events indicies in the time_slots dictionary.\n",
    "\n",
    "Inputs:\n",
    "event1: This is an event dictionary formatted like:\n",
    "        {'_id':\"2019_MARCH_K49_9\",\n",
    "         'index': 54\n",
    "         'cleanAbstract': 'Current ionic liquid .......',\n",
    "         'time_slot':[datetime.datetime(2021, 3, 17, 8, 36), datetime.datetime(2021, 3, 17, 8, 48)]}\n",
    "\n",
    "event2: This is another event formatted the same way.\n",
    "\"\"\"\n",
    "def swap(event1, event2):\n",
    "    index1 = event1['index']\n",
    "    index2 = event2['index']\n",
    "    \n",
    "    time_slot1 = event1['time_slot']\n",
    "    time_slot2 = event2['time_slot']\n",
    "    \n",
    "    intervalString = createIntervalString(time_slot1)\n",
    "    for i,neighbor in enumerate(time_slots[intervalString]):\n",
    "        if neighbor == index1:\n",
    "            break\n",
    "    time_slots[intervalString][i] = index2\n",
    "    \n",
    "    intervalString = createIntervalString(time_slot2)\n",
    "    for i,neighbor in enumerate(time_slots[intervalString]):\n",
    "        if neighbor == index2:\n",
    "            break\n",
    "    time_slots[intervalString][i] = index1\n",
    "    \n",
    "    abstracts[index1]['time_slot'] = time_slot2\n",
    "    abstracts[index2]['time_slot'] = time_slot1"
   ]
  },
  {
   "cell_type": "code",
   "execution_count": 48,
   "metadata": {
    "collapsed": true,
    "jupyter": {
     "outputs_hidden": true,
     "source_hidden": true
    }
   },
   "outputs": [
    {
     "name": "stdout",
     "output_type": "stream",
     "text": [
      "{'_id': '2021_MARCH_L06_3', 'index': 4663, 'cleanAbstract': 'Modeling Elastocapillary Adhesion of Compliant Gel Microspheres A common feature in adhesion and wetting systems is a meniscus. Yet, most adhesive models do not account for the role it plays. Historically, contact models have been treated separately from models of capillarity due to the complexity of elasticity at large deformations. Here, we consider a system at the intersection of these two extremes. We explore the adhesion of a gel sphere to a rigid substrate. As the gel is deformed, a liquid fraction is expelled to form a meniscus with the surface. This meniscus adds additional contact area between the gel and substrate, changing the energetic contributions due to adhesion and surface tension. In comparison with experiment, we find that established contact models underestimate the contact area, especially at low Youngs moduli. To better understand this system, we have built on previous contact and capillary models to develop a formulation which includes elasticity, adhesion, and surface tension. The model accounts for the formation of a meniscus and is applicable at even large contact radii.', 'time_slot': [datetime.datetime(2021, 3, 19, 12, 3), datetime.datetime(2021, 3, 19, 12, 15)]} \n",
      "\n",
      "[10108, 10136, 10149, 10160, 10175, 10185, 10197, 10209, 10221, 10226, 10232, 10245, 10246, 10258, 9537, 10285, 9056, 10315, 10328, 4663, 10351, 10364, 10377, 10392, 10398, 10408, 10421, 10432, 10446, 5013, 8202, 10488, 10502, 7953, 10532, 10547, 10558, 1454, 10587, 10602, 10617, 4376, 10647, 10662, 10673, 10685, 10690, 10698, 10710, 10723, 10736, 10749, 10760, 10771, 10779, 10784, 10798]\n"
     ]
    }
   ],
   "source": [
    "print(abstracts[4663],\"\\n\")\n",
    "print(time_slots[createIntervalString(abstracts[4663]['time_slot'])])"
   ]
  },
  {
   "cell_type": "code",
   "execution_count": null,
   "metadata": {
    "jupyter": {
     "source_hidden": true
    }
   },
   "outputs": [],
   "source": [
    "print(abstracts[4000],\"\\n\")\n",
    "print(time_slots[createIntervalString(abstracts[4000]['time_slot'])])"
   ]
  },
  {
   "cell_type": "code",
   "execution_count": null,
   "metadata": {
    "jupyter": {
     "source_hidden": true
    }
   },
   "outputs": [],
   "source": [
    "#swap(abstracts[4000], abstracts[4663]) #If you run this, be sure to swap them back!"
   ]
  },
  {
   "cell_type": "code",
   "execution_count": null,
   "metadata": {
    "jupyter": {
     "source_hidden": true
    }
   },
   "outputs": [],
   "source": [
    "print(abstracts[4663],\"\\n\")\n",
    "print(sorted(time_slots[createIntervalString(abstracts[4663]['time_slot'])]))"
   ]
  },
  {
   "cell_type": "code",
   "execution_count": null,
   "metadata": {
    "jupyter": {
     "source_hidden": true
    }
   },
   "outputs": [],
   "source": [
    "print(abstracts[4000],\"\\n\")\n",
    "print(sorted(time_slots[createIntervalString(abstracts[4000]['time_slot'])]))"
   ]
  },
  {
   "cell_type": "markdown",
   "metadata": {},
   "source": [
    "# Session Information"
   ]
  },
  {
   "cell_type": "markdown",
   "metadata": {},
   "source": [
    "This creates a list of all the events in each session which takes place during the time range of consideration. The dictionary is of the form:\n",
    "\n",
    "    {'L02': [4610, 4611,...],\n",
    "     'L03': [4621, 4622,...],\n",
    "     'L04': [4633, 4687,...],...}"
   ]
  },
  {
   "cell_type": "code",
   "execution_count": 48,
   "metadata": {},
   "outputs": [],
   "source": [
    "sessions = {}\n",
    "for i in abstractsForSorting:\n",
    "    abstract = abstracts[i]\n",
    "    _id = abstract['_id']\n",
    "    index = abstract['index']\n",
    "    session = _id.split(\"_\")[2]\n",
    "    if session not in sessions:\n",
    "        sessions[session] = [index]\n",
    "    else:\n",
    "        sessions[session].append(index)"
   ]
  },
  {
   "cell_type": "code",
   "execution_count": 49,
   "metadata": {},
   "outputs": [
    {
     "name": "stdout",
     "output_type": "stream",
     "text": [
      "[4662, 4663, 4664, 4665, 4666, 4667, 4668, 4669, 4670, 4671, 4672, 4673]\n"
     ]
    }
   ],
   "source": [
    "print(sessions['L06'])"
   ]
  },
  {
   "cell_type": "markdown",
   "metadata": {},
   "source": [
    "# Reorganizng schedule"
   ]
  },
  {
   "cell_type": "code",
   "execution_count": 51,
   "metadata": {},
   "outputs": [],
   "source": [
    "random.seed(1337) #uses current time as seed"
   ]
  },
  {
   "cell_type": "code",
   "execution_count": 52,
   "metadata": {},
   "outputs": [],
   "source": [
    "iterations = N*10 #Number of iterations\n",
    "noise = 100 #0 means all cost increasing moves are accepts, higher means less moves accepted."
   ]
  },
  {
   "cell_type": "code",
   "execution_count": 53,
   "metadata": {},
   "outputs": [],
   "source": [
    "initialCost = totalCost() #Get intial total cost\n",
    "finalCost = initialCost"
   ]
  },
  {
   "cell_type": "code",
   "execution_count": 54,
   "metadata": {},
   "outputs": [],
   "source": [
    "info = []"
   ]
  },
  {
   "cell_type": "code",
   "execution_count": 55,
   "metadata": {},
   "outputs": [],
   "source": [
    "for i in range(iterations):\n",
    "    #Random swapping of abstracts so long as they don't occur at the same time.\n",
    "#     indexA = random.choice(abstractsForSorting)\n",
    "#     indexB = random.choice(abstractsForSorting)\n",
    "    \n",
    "#     eventA = abstracts[indexA]\n",
    "#     eventB = abstracts[indexB]\n",
    "    \n",
    "#     while eventA['time_slot'][0] == eventB['time_slot'][0] and eventA['time_slot'][1] == eventB['time_slot'][1]:\n",
    "#         indexA = random.choice(abstractsForSorting)\n",
    "#         indexB = random.choice(abstractsForSorting)\n",
    "        \n",
    "#         eventA = abstracts[indexA]\n",
    "#         eventB = abstracts[indexB]\n",
    "\n",
    "    #Random swapping of abstracts so long as they are in the same session.\n",
    "    indexA = random.choice(abstractsForSorting) #Get an index\n",
    "    eventA = abstracts[indexA] #Get event associated with index\n",
    "    sessionA = eventA['_id'].split(\"_\")[2] #Get session code of eventA\n",
    "    \n",
    "    indexB = random.choice(sessions[sessionA]) #Get index from the same session as eventA\n",
    "    while indexA == indexB: #Make sure eventA and eventB are not the same\n",
    "        indexB = random.choice(sessions[sessionA])\n",
    "    eventB = abstracts[indexB]\n",
    "    \n",
    "    #Get cose of eventA & eventB\n",
    "    costA0 = cost(eventA)\n",
    "    costB0 = cost(eventB)\n",
    "    cost0 = costA0 + costB0\n",
    "    \n",
    "    #Get cost of swapping eventA & eventB\n",
    "    (costA1,costB1) = swapCost(eventA,eventB)\n",
    "    cost1 = costA1 + costB1\n",
    "    \n",
    "    #Swap according to metropolis alogirthm\n",
    "    dCost = cost1 - cost0\n",
    "    swapped = False\n",
    "    if dCost < 0: #If swap reduces cost, accept\n",
    "        swap(eventA, eventB)\n",
    "        swapped = True\n",
    "        finalCost += dCost #Update cost\n",
    "    elif random.random() <= np.exp(-dCost*noise): #If swap increases energy, swap according to Boltzmann distro\n",
    "        swap(eventA, eventB)\n",
    "        swapped = True\n",
    "        finalCost += dCost\n",
    "    \n",
    "#     if swapped:\n",
    "#         print(i,\"accepted!\")\n",
    "#     else:\n",
    "#         print(i,\" rejected!\")\n",
    "    \n",
    "    info.append([(indexA, indexB), swapped, dCost,finalCost])"
   ]
  },
  {
   "cell_type": "markdown",
   "metadata": {},
   "source": [
    "# Analysis"
   ]
  },
  {
   "cell_type": "markdown",
   "metadata": {},
   "source": [
    "### Cost as a function of sweep"
   ]
  },
  {
   "cell_type": "code",
   "execution_count": 56,
   "metadata": {},
   "outputs": [
    {
     "data": {
      "image/png": "[encoded data removed]",
      "text/plain": [
       "<Figure size 432x288 with 1 Axes>"
      ]
     },
     "metadata": {
      "needs_background": "light"
     },
     "output_type": "display_data"
    }
   ],
   "source": [
    "energy = [info[i][3] for i in range(len(info))]\n",
    "count = [i/N for i in range(len(info))]\n",
    "plt.plot(count,energy,label=\"cost\")\n",
    "plt.legend(loc=\"upper right\")\n",
    "plt.xlabel(f\"sweeps (N = {N})\")\n",
    "plt.ylabel(\"cost\")\n",
    "plt.show()\n",
    "\n",
    "#plt.savefig(\"costVsSweeps_withinSession.png\",dpi=200)"
   ]
  },
  {
   "cell_type": "markdown",
   "metadata": {},
   "source": [
    "### Looking at all the changes for a specific session"
   ]
  },
  {
   "cell_type": "code",
   "execution_count": 57,
   "metadata": {},
   "outputs": [
    {
     "name": "stdout",
     "output_type": "stream",
     "text": [
      "Old Score: 0.2855     New Score: 0.2389\n",
      "Old Time: 8:36-8:48   New Time: 8:48-9:00\n",
      "Quantifying failure in geometrically confined adhesives by pressure-induced cavitation Many practical adhesives fail by the growth of interfacial cavities. Conventional contact adhesion measurements relate cavity growth to adhesive performance by recording force, displacement and contact images. Still, the influence of internal pressure within the cavities is an open question. Thus, in-situ cavity pressure measurements will enrich quantitative understanding of adhesive failure mechanisms. Here, we report a contact adhesion testing instrument that applies positive pressure at the contact interface to induce cavitation. We combine experiments with finite element analysis to develop models relating the pressure response in acrylic adhesives and silicone elastomers to their quanitative bulk and interfacial properties, including the elastic modulus and the critical strain energy release rate. Moreover, our experiments demonstrate that modifying interfacial pressure imparts control of failure modes during separation. \n",
      "\n",
      "Old Score: 0.1829     New Score: 0.1696\n",
      "Old Time: 8:48-9:00   New Time: 8:36-8:48\n",
      "Modeling Elastocapillary Adhesion of Compliant Gel Microspheres A common feature in adhesion and wetting systems is a meniscus. Yet, most adhesive models do not account for the role it plays. Historically, contact models have been treated separately from models of capillarity due to the complexity of elasticity at large deformations. Here, we consider a system at the intersection of these two extremes. We explore the adhesion of a gel sphere to a rigid substrate. As the gel is deformed, a liquid fraction is expelled to form a meniscus with the surface. This meniscus adds additional contact area between the gel and substrate, changing the energetic contributions due to adhesion and surface tension. In comparison with experiment, we find that established contact models underestimate the contact area, especially at low Youngs moduli. To better understand this system, we have built on previous contact and capillary models to develop a formulation which includes elasticity, adhesion, and surface tension. The model accounts for the formation of a meniscus and is applicable at even large contact radii. \n",
      "\n",
      "Old Score: 0.3836     New Score: 0.2157\n",
      "Old Time: 9:00-9:12   New Time: 10:48-11:00\n",
      "Elastocapillary Adhesion of Compliant Gel Microspheres Capillary forces can play an important role in adhesion between rigid surfaces and highly compliant polymer gels in multiple ways. Recent studies have demonstrated that solid surface tension can compete with or even dominate over bulk elasticity on small length scales, leading to phenomena unanticipated by classic solid mechanics. Furthermore, mounting evidence suggests that the internal free fluid phase of gels can also contribute significantly to the mechanical response of highly compliant materials, from phase separation in static equilibria to the most extreme dynamics. In this work, we investigate the adhesion between polydimethylsiloxane (PDMS) gel microspheres and rigid glass substrates. We vary the stiffness and size of the microspheres as well as the surface energy of the substrate and directly image the adhered microspheres using brightfield microscopy. Our measurements show a range of adhesive contact geometries, from classic elastic to quantitatively wetting-like behavior. We understand our data with a model that incorporates adhesion, elasticity, surface tension, and phase separation. \n",
      "\n",
      "Old Score: 0.2947     New Score: 0.3671\n",
      "Old Time: 9:12-9:24   New Time: 10:12-10:24\n",
      "Dynamic Measurements of Adhesive Contact with a Soft Gel Establishing a new adhesive contact is a highly dynamic process. The strong drive to conform into contact can rapidly deform a soft, sticky substrate, even when the contact is made quasi-statically. In compliant gels, establishing an adhesive contact may be governed by a complex interplay between adhesive, elastic, and capillary forces interacting with both viscoelastic and poroelastic dissipation mechanisms. We report a series of experiments designed to capture the three-dimensional evolution of a nascent adhesive contact between a compliant silicone gel and a rigid spherical indenter. We use interference, brightfield, and confocal microscopy, respectively, to directly measure the 3D, time-dependent deformation of the gel surface from high-speed sub-micrometer deformations at the initiation of contact to longer-time structural equilibration on the scale of tens of micrometers. These results provide new insights into the governing physics of dynamic adhesion across a broad range of length and time scales. \n",
      "\n",
      "Old Score: 0.2674     New Score: 0.2715\n",
      "Old Time: 9:24-9:36   New Time: 9:24-9:36\n",
      "Viscoelastic Patch De-adhesion from Wrinkling Surfaces as a Model of Realistic Thrombus Behavior Adhesion of thrombus to wrinkled arterial lumen has attracted increasing attention as researchers are striving to resolve fouling issues in biological and artificial surfaces. While thrombus is viscoelastic, the majority of current research assumes only the limiting elastic behavior. This work therefore studies the delamination of a viscoelastic patch, as a model for realistic thrombus from a wrinkling surface. Specifically, a viscoelastic patch is attached to the surface of an elastic bilayer which undergoes wrinkling with increasing amplitude under increasing applied compression on the two ends. At a critical wrinkling amplitude, the patch starts to de-adhere from the wrinkled surface. Finite element and analytical models based on energy minimization are developed to undertake a parametric study with varying relaxation properties, adhesion energies, and loading rates to determine their correlations with critical delamination amplitudes. This allows the investigation of how viscoelastic characteristics such as relaxation time (related to thrombus age) and the loading rate (related to pulse rate) influence the de-adhesion process, providing insight into native arterial topographic renewal mechanisms and design strategies for topographic vascular grafts. \n",
      "\n",
      "Old Score: 0.3273     New Score: 0.2660\n",
      "Old Time: 9:36-9:48   New Time: 10:36-10:48\n",
      "Influence of wetting and adhesion on dynamic drying of a hydrogel disk Hydrogels are elastic polymer-based materials that are highly water absorbent. While they are widely used in industry, e.g., to make contact lenses, microfluidic devices, or flexible electronics, their poroelastic behavior, and in particular their drying dynamics, is not well understood. Here, we investigate how different boundary conditions can lead to different compacting patterns of the skeletal polymer network and subsequent different drying dynamics over time. For example, by modifying only the boundary conditions, we are able to induce a growing, constant, or descending drying rate. We then use confocal microscopy measurements to develop a quantitative analytical model to predict drying under various environmental conditions. \n",
      "\n",
      "Old Score: 0.3462     New Score: 0.3208\n",
      "Old Time: 9:48-10:00   New Time: 9:48-10:00\n",
      "Elastocapillarity-induced adhesion switching in nanochannels The miniaturization of nanostructures and NEMS/MEMS is limited by the dramatic capillary pressures (>100 bar) that build up during drying or wetting. Understanding and controlling the resulting deformations and adhesion is critical for scaling down nanofabrication processes. In this work, we took full advantage of the atomic smoothness, mechanical strength and flexibility of 2D multi-layered van der Waals materials to design switchable nanocontainers/nanochannels by reversibly controlling the interfacial adhesion through capillarity. Our channels have sub-10-nanometre height and a flexible wall, whose mechanical configuration can be switched at will from open to closed by drying-induced capillary forces. Fast imaging of the channel closure reveals a stepwise motion, indicating adhesion front/meniscus depinning. We identified the geometry criterion for channel closure under the capillary pressure and analysed the elasticity-adhesion balance of dry channels to capture the condition for channel opening upon wetting. Our analysis yields the key geometrical and material parameters for the design of such elastocapillarity-switched channels. Finally, we used these channels as switchable nano-doors of nanocontainers entrapping sub-attolitre volumes. \n",
      "\n",
      "Old Score: 0.4719     New Score: 0.4154\n",
      "Old Time: 10:00-10:12   New Time: 10:00-10:12\n",
      "Viscous peeling of a graphene sheet To get insights into the process of liquid-phase exfoliation of graphite into graphene, we study numerically and theoretically the dynamics of a peeling front in a system of two adhered carbon nanosheets immersed in water. The crack propagation is induced by lifting one of the edges with an assigned velocity v. A continuum model based on the equation of the elastica coupled with a model for the hydrodynamic pressure is compared to non-equilibrium molecular dynamics (MD) simulations of a graphene-water system. We quantify the viscous-dependent contribution to the external peeling force as a function of v, as separated from the adhesive contribution.Contrary to primary expectations, we find that the lubrication forces have a negligible effect on the peeling force owing to the large slip length characterising our system. The inclusion of an entrance pressure drop due to converging flow streamlines upstream of the peeling edge is found to be necessary. Despite this inclusion, while the shape of the sheet in MD agrees with that in the continuum model, the viscous contribution to the peeling force predicted by MD is larger than that predicted by the continuum model. The mechanism underlying this discrepancy is explained by studying the drag forces on the peeling edge. \n",
      "\n",
      "Old Score: 0.4097     New Score: 0.2182\n",
      "Old Time: 10:12-10:24   New Time: 10:24-10:36\n",
      "Interfacial Interactions of Bioinspired Underwater Adhesives The increasing demand for adhesives that stick to wet tissues is addressed by mimicking the adhesive mechanisms displayed by mussel foot proteins (Mfp). The versatile cohesive and adhesive molecular interactions offered by the pendant variable groups in Mfp is proposed to be the reason for robust underwater adhesion of Mfp. Though appending the Mfp-inspired functional groups to various polymer backbones is a popular strategy to obtain synthetic underwater adhesives, the quantitative aspects of the relationship between polymer structure and interfacial adhesion have gone largely uncorroborated. The main reasons for this obscure corroboration are the scarcities in bioinspired adhesive designs that do not change cohesive parameters upon altering pendant structure and experimental techniques that visualize interactions at the buried contact interfaces. The presentation will introduce the need for underwater adhesives and our synthetic strategies to overcome the challenges in underwater adhesion. Later, the relationship between polymer structure and interfacial adhesion identified using a combination of pull-off force measurements and sum-frequency generation spectroscopy will be revealed. \n",
      "\n",
      "Old Score: 0.2978     New Score: 0.2538\n",
      "Old Time: 10:24-10:36   New Time: 9:36-9:48\n",
      "Optical Characterization of Underwater Contact Mechanics For survival in extreme environments, organisms have evolved adhesive mechanisms and materials that out-compete those of human technology. While the chemistry of underwater bio-adhesion is a source of valuable insight, the mechanics by which surfaces expel water and come in contact underlies the critical understanding of natural solutions and evaluating biomimetic analogs. Hydrophobicity of an adhesive surface has been shown to be crucial in removing water from a hydrophilic substrate, but the resulting contact is typically heterogeneous, with patches of unevacuated water. Thermodynamically, the hydrophobic part of any adhesive or surface drives the water out in presence of any other akin moiety.Here, we present an FTIR-based imaging technique to spatially resolve and quantify the thickness of puddles formed between two solids in contact underwater. The technique is validated by comparing measured air gap thickness between a glass lens and glass prism with Hertzian contact theory and then applied to characterize the formation and drainage of patches of water as a soft PDMS lens approaches a functionalized and pristine glass surface. The work paves the way for a better understanding of the contact interfaces involved in the field of tribology, adhesion, and soft coatings. \n",
      "\n",
      "Old Score: 0.3382     New Score: 0.3738\n",
      "Old Time: 10:36-10:48   New Time: 9:00-9:12\n",
      "Constructing molecularly-informed field theories from bottom-up coarse-graining: Rethinking how we engineer soft matter formulations Our work probes the behavior of complex, soft matter formulationsoften comprised of macromoleculesby leveraging the strengths of both a particle and a field representation. Mesostructured polymeric solutions are difficult to study using traditional particle-explicit approaches (e.g., molecular dynamics) due to the disparate time and length scales, while the predictive capability of field theories is hampered by the need to specify emergent parameters (e.g., chi parameters) with nonobvious connections to molecular architecture. To overcome the weaknesses of both, we use small-scale, atomistic simulations to parameterize the statistical field theory models. Subsequently, field-theoretic simulations can probe behavior at larger length scales in these complex solutions efficiently while maintaining a rigorous connection to the underlying chemistries. This synergistic computational approach opens the door to explorede-novothe phase behavior of a wide variety of industrially relevant formulations, e.g., emulsions, coacervates, micelle assemblies, colloidal suspensions, and block copolymers. We demonstrate the capability of this approach by predicting the aqueous, PEO phase diagram, and the composition dependence of Pluronic® microphases. \n",
      "\n",
      "Old Score: 0.1773     New Score: 0.2647\n",
      "Old Time: 10:48-11:00   New Time: 9:12-9:24\n",
      "\"Detachment of an inclined micro-pillar from a dissimilar substrate\" Many reversible adhesive systems have been proposed in the past that closely mimic the adhesion mechanisms in the gecko feet. These adhesive systems comprise an array of compliant micropillars that are fabricated on a substrate, which can be used to fasten two surfaces. Adhesive systems with directional adhesion have also been designed. One such system was proposed by Jeong et al. (PNAS, 2009, v106:5639-5644), where the compliant pillars were inclined with respect to the adherend surface. When the pillars were sheared along with the inclination, the adhesive strength was larger when compared to the case when the pillars were sheared opposite to the pillar orientation. The physical mechanisms that lead to this behavior have not been quantitively detailed yet, and this is the objective of our work. Using finite element simulations, we show that the difference in the strength is due to the nature of singularities in the elastic fields that exist near the interfacial pillar-substrate corners. We also show that this difference exists only when the pillar is compliant with respect to the substrate to which it is attached to. When the substrate is compliant with respect to the pillar, however, we do not observe a direction-dependent strength. \n",
      "\n"
     ]
    }
   ],
   "source": [
    "for index in sessions['L06']:\n",
    "    oldEvent = abstractsStatic[index]\n",
    "    oldTime = oldEvent[\"time_slot\"]\n",
    "    oldScore = cost(oldEvent, time_slotsDic=time_slotsStatic, abstractsList=abstractsStatic)\n",
    "    \n",
    "    newEvent = abstracts[index]\n",
    "    newTime = newEvent[\"time_slot\"]\n",
    "    newScore = cost(newEvent)\n",
    "    \n",
    "    abstract = abstracts[index][\"cleanAbstract\"]\n",
    "    print(f\"Old Score: {oldScore:.4f}     New Score: {newScore:.4f}\")\n",
    "    print(f\"Old Time: {oldTime[0].hour}:{oldTime[0].minute:02d}-{oldTime[1].hour}:{oldTime[1].minute:02d}   New Time: {newTime[0].hour}:{newTime[0].minute:02d}-{newTime[1].hour}:{newTime[1].minute:02d}\")\n",
    "    print(abstract,\"\\n\")"
   ]
  },
  {
   "cell_type": "markdown",
   "metadata": {},
   "source": [
    "### Identifying swaps that created the largest cost changes"
   ]
  },
  {
   "cell_type": "code",
   "execution_count": 136,
   "metadata": {},
   "outputs": [],
   "source": [
    "NSwaps = 3\n",
    "largestChanges = []\n",
    "for j in range(NSwaps):\n",
    "    change = 0\n",
    "    minIndex = 0\n",
    "    for i in range(len(info)):\n",
    "        values = info[i]\n",
    "        if change > values[2] and i not in largestChanges:\n",
    "            change = values[2]\n",
    "            minIndex = i\n",
    "    largestChanges.append(minIndex)"
   ]
  },
  {
   "cell_type": "code",
   "execution_count": 137,
   "metadata": {},
   "outputs": [
    {
     "name": "stdout",
     "output_type": "stream",
     "text": [
      "Swap Score: -0.1966\n",
      "New Time: 10:24-10:36\n",
      "Quantum Transport on MnBi2Te4 Thin Films Grown on Sapphire MnBi2Te4 has recently emerged as an intrinsic magnetic topological insulator that possesses both magnetic and topological properties. Perhaps most interestingly it possesses a unique set of thickness dependent properties in the ultra-thin limit.1 Transitioning from 2D ferromagnetic insulator as a single layer to an axion insulator with even layer thickness, to wide bandgap quantum anomalous Hall insulator with odd layer number.2,3 Yet, the majority of experiments have been on small exfoliated crystals which have confirmed the axion and Quantum anomalous Hall insulator phases, whilst large area films grown epitaxially possess large intrinsic n-type doping preventing access to these quantum phases.1 Here, we report the growth of ultra-thin MnBi2Te4 on sapphire by molecular beam epitaxy. By carefully controlling the growth parameters we are able to achieve low-doped films of well-defined thickness (septuple-layer number) and characterise the electronic properties with low temperature magneto-transport measurements. 1 Trang et al., arXiv:2009.061752 Liu, et al., Nature Materials 19, 522 (2020)3 Deng, et al., Science 367, 895 (2000) \n",
      "\n",
      "New Time: 9:24-9:36\n",
      "Competing magnetic interactions in MnBi4Te7 Intrinsic magnetic topological insulators (TIs) MnBi2nTe3n+1 provides a promising material platform to realize exotic topological quantum states such as high temperature quantum anomalous Hall insulator and axion insulator. Besides non-trivial band topology, magnetism is another necessary ingredient to realize these quantum states[1-5]. In this talk, we will show a ferromagnetic (FM) phase with TC~14 K can be realized with a small concentration substitution of Sb for Bi in Mn(Bi,Sb)4Te7. We have also observed strong competition between interlayer FM and antiferromagnetic (AFM) coupling. In pristine MnBi4Te7, we observed an AFM transition at 13.1 K, followed by a FM transition at 8.9 K, consistent with previous reports[6]. However, in a 60%Sb doped sample, we find a FM phase switches to an AFM phase at ~4.4K. These complex magnetic transitions offer rich opportunities to observe how the topological phases evolve with magnetism. We will also discuss the origin of the AFM and FM competition in this material system.1.Zhang et al.,PRL,122,206401(2019)2.Li et al.,Sci. Adv.5,eaaw5685(2019)3.Otrokov et al.,Nature 576,416(2019)4.Hu et al.,Nat. Commun.11,97(2020)5.Yan et al.,PRM 4,054202(2020)6.Vidal et al.,PRX 9,041065(2019) \n",
      " \n",
      "\n",
      "Swap Score: -0.1741\n",
      "New Time: 10:12-10:24\n",
      "Removing leakage-induced correlated errors in superconducting quantum errorcorrection - Experiment Removing excitations from non-computational states is an essential challenge in achieving stable quantum error correction. We present the experimental realisation of a multilevel reset protocol that produces the ground state with an error below 5e-3 within 250 ns, starting from the qubit being in any of the first three excited levels. We deploy this gate in the context of the bit-flip stabilizer code, and demonstrate a significant reduction in the population of leakage built up over time while running the code. We show that the removal of leakage reduces the incidence of time-correlated errors, and significantly improves the logical error rate as well as the error suppression factor Λ. This provides the first demonstration of error suppression that is stable over large numbers of rounds. \n",
      "\n",
      "New Time: 9:00-9:12\n",
      "Towards fault-tolerant quantum error correction with spin qubits in diamond Quantum error correction (QEC) is essential for reliable large-scale quantum information processing. Pioneering experiments have demonstrated QEC codes that could only correct specific types of errors using various physical platforms [1,2]. However, full experimental demonstration of a fault-tolerant QEC code that can correct any type of single-qubit error remains an open challenge. Here, I will present our results towards the implementation of a fault-tolerant QEC code using a solid-state spin register in diamond. Recently, we have demonstrated that such a register can hold up to 10 qubits with high-fidelity universal control, coherence times up to one minute, and genuine multipartite entanglement [3,4]. Building upon these results, I will show how we can use multiple non-destructive parity measurements to encode logical states in C13 nuclear-spin qubits in diamond. These parity measurements might be further used to detect and correct arbitrary single-qubit errors on the encoded states, and are therefore an important step towards fault-tolerant quantum information processing.[1] Kelly et al., Nature, 519, 7541, 2015[2] Cramer et al., Nat. Commun., 7, 11526, 2016[3] Bradley et al., Phys. Rev. X, 9, 031045, 2019[4] Abobeih et al., Nature, 576, 411, 2019 \n",
      " \n",
      "\n",
      "Swap Score: -0.1601\n",
      "New Time: 9:24-9:36\n",
      "Cavity Probes and Control of Antiferromagnetic Fluctuations in a Mott Insulator We present a mechanism for coupling the electromagnetic field of a THz cavity to the antiferromagnetic order in a simplified model of an undoped cuprate Mott insulator. In addition to the direct magnetic-dipole coupling between spins and the magnetic component of the near-field radiation, we also consider a more elaborate magnetoelectric coupling which couples various spin-exchange processes to the electric field. We show how these terms can lead to the formation of Neel magnon-polariton resonances, as well as allow for the optical parametric driving of spin-waves. We identify clear experimental signatures to look for in a proposed setup. Finally, we conclude by speculating about the fate of charge carriers doped into the system in the presence of our coupling scheme. \n",
      "\n",
      "New Time: 8:24-8:36\n",
      "The effect of electronically-induced lattice distortions on the structural distortions in layered lanthanum cuprates. The Jahn-Teller active La(2-x)Ba(x)CuO4 system undergoes a phase transition from a low-temperature orthorhombic (LTO) to a low-temperature tetragonal (LTT) phase at doping values centred around x = 0.125. The LTT phase correlates with a dramatic suppression of superconductivity, neither of which are observed in the Sr-doped lanthanum cuprate. In this work we use density-functional theory calculations to understand the extent to which structural distortions arising from the Jahn-Teller effect induce a symmetry-breaking distortion in the Ba-doped system but not in the Sr-doped system. We find that the relative stability of the LTT and LTO phases is sensitive to the magnitude of the Jahn-Teller distortion and the average A-site ionic radius, which helps explain the differences between the phase diagrams of the Ba- and Sr-doped systems. \n",
      " \n",
      "\n",
      "Swap Score: -0.1558\n",
      "New Time: 10:36-10:48\n",
      "Data-driven tools to fingerprint soft material structuring in complex processing flows Flows involving complex time-varying deformations are ubiquitous in polymer processing, and are important to engineering non-equilibrium structure in soft materials, yet design of such processes is challenged by the availability of accurate structure-based rheological models. The development of these models is biased toward the simple viscometric flows in which they are tested, limiting their applicability in complex processes. We introduce a new experimental methodology to fingerprint the microstructural response of complex fluids to nearly arbitrary flows and enable an alternative approach of data-driven modeling and design. The method involves scanning small angle x-ray scattering (sSAXS) in a fluidic four roll mill (FFoRM) device that can produce arbitrarily variable two-dimensional stagnation flows. Using measurements on rod-like polymers, we demonstrate how FFoRM-sSAXS can be used to generate thousands of Lagrangian trajectories that map structural response to the time history of deformation type and rate in a flow. We show how these large data sets can be used to understand the effects of flow history on material order, rigorously test physics-based constitutive models, emulate common processing flows, and directly synthesize process-structure-property relationships. \n",
      "\n",
      "New Time: 8:12-8:24\n",
      "Machine Learning of Phase Transitions and Dynamical Crossovers in Polymers Phase transitions and dynamical crossovers in polymers are governed by correlated microscopic interactions and relaxation of their large number of atoms and segments over multiple time and length scales. Given the wide variation in microscopic degrees of freedom and macroscopic properties exhibited by polymers, identifying new types of phase transitions and corresponding states can be challenging. Moreover, there is no universal order parameter or straight forward approach to characterize wide range of crossovers in polymers including metastable phase transitions, vitrification, jamming, gel formation and localization transition. Here, we report a generic machine learning framework for autonomous identification and characterization of phase transitions and dynamical crossovers in molecular dynamics trajectory of polymers. We demonstrate this framework for coil to globule transition, crystallization and glass formation during cooling of polymers, and provide new physical insights of these processes. This framework does not need any a-priory knowledge of the crossover and is extensible to predict other phase transitions and dynamical crossover during thermophysical processes such as cooling, drying, and compression of polymers. \n",
      " \n",
      "\n",
      "Swap Score: -0.1469\n",
      "New Time: 10:00-10:12\n",
      "Probing the Anisotropic Bandstructure of Titanium Trisulfide Nanoribbons via Photocurrent Spectroscopy As an emerging 2D semiconductor, titanium trisulfide (TiS3) has a strong anisotropic photoresponse and a bandgap in the near-infrared regime, which render it a promising candidate for polarized and infrared optoelectronics. However, due to its quasi-1D atomic structure, TiS3 often exists in the form of nanoribbon, and the absorption measurement of the individual ribbon is challenging. In this work, by performing low-temperature polarization-dependent photocurrent spectroscopy, we characterize the polarization-resolved absorption spectra of both thick and thin TiS3 flakes. We find that the absorption edge is 0.90 eV for a 200-nm-thick flake and 0.96 eV for a 15-nm-thick ribbon, indicating a modification of the bandgap by the thickness. While the thick TiS3 flake possess two highly anisotropic resonance peaks at 1.23 eV and 1.41 eV, the thin ribbon only exhibit one resonance at 1.34 eV. The bandstructure and the absorption spectrum obtained from first principle calculations are in excellent agreement with our experimental results. Our findings have advanced the understanding of the optical properties of TiS3 nanoflakes, which will inspire future optoelectronics applications. \n",
      "\n",
      "New Time: 10:36-10:48\n",
      "Twist-angle controls interlayer exciton lifetimes in MoSe2/WSe2 heterostructures We investigate the twist angle dependent interlayer exciton lifetimes in MoSe2/WSe2 twisted bilayers (TBLs) capsulated by hexagonal boron nitride (hBN). Three R-stacking style samples with different twist angles are prepared with careful angle alignment and measured by time-resolved photoluminescence at low-temperature. The interlayer exciton lifetimes are found to change significantly with a small change in the twist angle by one order of magnitude. Using a low-energy continuum model, we theoretically explain two possible mechanisms influencing twist angle dependent interlayer exciton radiative lifetimes. The shift to indirect transitions in the momentum space with an increasing twist angle and the energy modulation from the moiré potential both have a significant impact on interlayer exciton lifetimes. We further predict distinct temperature dependence of interlayer exciton lifetimes in TBLs with different twist angles, which is partially validated by experiments. \n",
      " \n",
      "\n"
     ]
    }
   ],
   "source": [
    "for i in largestChanges:\n",
    "    values = info[i]\n",
    "    timeA = abstracts[values[0][0]][\"time_slot\"]\n",
    "    timeB = abstracts[values[0][1]][\"time_slot\"]\n",
    "    \n",
    "    abstractA = abstracts[values[0][0]][\"cleanAbstract\"]\n",
    "    abstractB = abstracts[values[0][1]][\"cleanAbstract\"]\n",
    "    \n",
    "    print(f\"Swap Score: {values[2]:.4f}\")\n",
    "    print(f\"New Time: {timeA[0].hour}:{timeA[0].minute:02d}-{timeA[1].hour}:{timeA[1].minute:02d}\")\n",
    "    print(abstractA,\"\\n\")\n",
    "    print(f\"New Time: {timeB[0].hour}:{timeB[0].minute:02d}-{timeB[1].hour}:{timeB[1].minute:02d}\")\n",
    "    print(abstractB,\"\\n\",\"\\n\")"
   ]
  },
  {
   "cell_type": "code",
   "execution_count": 134,
   "metadata": {
    "collapsed": true,
    "jupyter": {
     "outputs_hidden": true,
     "source_hidden": true
    }
   },
   "outputs": [
    {
     "name": "stdout",
     "output_type": "stream",
     "text": [
      "[(10.166666666666666, 0.2), (8.133333333333333, 0.2), (9.15, 0.2), (8.133333333333333, 0.2), (10.166666666666666, 0.2), (9.15, 0.2), (10.166666666666666, 0.2), (8.133333333333333, 0.2), (8.133333333333333, 0.2)]\n",
      "[(10.166666666666666, 0.2), (10.166666666666666, 0.2), (8.133333333333333, 0.2), (9.15, 0.2), (9.15, 0.2), (9.15, 0.2), (9.15, 0.2), (10.166666666666666, 0.2), (8.133333333333333, 0.2), (10.166666666666666, 0.2), (10.166666666666666, 0.2), (10.166666666666666, 0.2)]\n",
      "[(8.133333333333333, 0.2), (8.133333333333333, 0.2), (10.166666666666666, 0.2), (9.15, 0.2), (9.15, 0.2), (9.15, 0.2), (9.15, 0.2), (10.166666666666666, 0.2), (10.166666666666666, 0.2), (10.166666666666666, 0.2), (9.15, 0.2), (10.166666666666666, 0.2)]\n",
      "[(8.133333333333333, 0.2), (8.133333333333333, 0.2), (8.133333333333333, 0.2), (10.166666666666666, 0.2), (8.133333333333333, 0.2), (10.166666666666666, 0.2), (10.166666666666666, 0.2), (9.15, 0.2), (9.15, 0.2), (9.15, 0.2), (9.15, 0.2), (10.166666666666666, 0.2), (10.166666666666666, 0.2), (10.166666666666666, 0.2), (10.166666666666666, 0.2)]\n",
      "[(8.133333333333333, 0.2), (8.133333333333333, 0.2), (9.15, 0.2), (9.15, 0.2), (8.133333333333333, 0.2), (10.166666666666666, 0.2), (9.15, 0.2), (9.15, 0.2), (10.166666666666666, 0.2), (10.166666666666666, 0.2), (9.15, 0.2), (9.15, 0.2)]\n",
      "[(8.133333333333333, 0.2), (9.15, 0.2), (9.15, 0.2), (8.133333333333333, 0.2), (9.15, 0.2), (8.133333333333333, 0.2), (9.15, 0.2), (10.166666666666666, 0.2), (8.133333333333333, 0.2), (10.166666666666666, 0.2), (9.15, 0.2), (8.133333333333333, 0.2)]\n"
     ]
    },
    {
     "data": {
      "image/png": "[encoded data removed]",
      "text/plain": [
       "<Figure size 432x288 with 1 Axes>"
      ]
     },
     "metadata": {
      "needs_background": "light"
     },
     "output_type": "display_data"
    }
   ],
   "source": [
    "fig, gnt = plt.subplots() # Declaring a figure \"gnt\"\n",
    "gnt.set_ylim(0, 65)\n",
    "gnt.set_xlim(5, 25)\n",
    "gnt.set_xlabel('hour')\n",
    "gnt.set_ylabel('session')\n",
    "\n",
    "gnt.set_yticks([i for i in range(10,7*10,10)])\n",
    "gnt.set_yticklabels(list(time_slots.keys())[:6])\n",
    "gnt.grid(True)\n",
    "\n",
    "width = 5\n",
    "wiggle = 0\n",
    "\n",
    "count = 0\n",
    "for i,session in enumerate(time_slots):\n",
    "    count += 1\n",
    "    indices = time_slots[session]\n",
    "    timeList = []\n",
    "    for index in indices:\n",
    "        time_slot = abstracts[index]['time_slot']\n",
    "        start = time_slot[0]\n",
    "        end = time_slot[1]\n",
    "        duration = (end - start).total_seconds()/3600 #length of event in hours\n",
    "        \n",
    "        startHours = start.hour + start.hour/60 + wiggle\n",
    "        endHours = startHours + duration - wiggle\n",
    "        timeList.append((startHours,duration))\n",
    "    print(timeList)\n",
    "    gnt.broken_barh(timeList, ((i+1)*10-2.5, width), facecolors =('tab:orange'))\n",
    "    \n",
    "    if count > 5:\n",
    "        break"
   ]
  },
  {
   "cell_type": "code",
   "execution_count": 99,
   "metadata": {
    "collapsed": true,
    "jupyter": {
     "outputs_hidden": true,
     "source_hidden": true
    }
   },
   "outputs": [
    {
     "data": {
      "text/plain": [
       "<matplotlib.collections.BrokenBarHCollection at 0x252d5d763d0>"
      ]
     },
     "execution_count": 99,
     "metadata": {},
     "output_type": "execute_result"
    },
    {
     "data": {
      "image/png": "[encoded data removed]",
      "text/plain": [
       "<Figure size 432x288 with 1 Axes>"
      ]
     },
     "metadata": {
      "needs_background": "light"
     },
     "output_type": "display_data"
    }
   ],
   "source": [
    "# Declaring a figure \"gnt\"\n",
    "fig, gnt = plt.subplots()\n",
    " \n",
    "# Setting Y-axis limits\n",
    "gnt.set_ylim(0, 50)\n",
    " \n",
    "# Setting X-axis limits\n",
    "gnt.set_xlim(0, 160)\n",
    " \n",
    "# Setting labels for x-axis and y-axis\n",
    "gnt.set_xlabel('seconds since start')\n",
    "gnt.set_ylabel('Processor')\n",
    " \n",
    "# Setting ticks on y-axis\n",
    "gnt.set_yticks([15, 25, 35])\n",
    "# Labelling tickes of y-axis\n",
    "gnt.set_yticklabels(['15', '25', '35'])\n",
    " \n",
    "# Setting graph attribute\n",
    "gnt.grid(True)\n",
    " \n",
    "# Declaring a bar in schedule\n",
    "gnt.broken_barh([(40, 50)], (30, 10), facecolors =('tab:orange'))\n",
    " \n",
    "# Declaring multiple bars in at same level and same width\n",
    "gnt.broken_barh([(110, 10), (150, 10)], (10, 9),\n",
    "                         facecolors ='tab:blue')\n",
    " \n",
    "gnt.broken_barh([(10, 50), (100, 20), (130, 10)], (20, 9),\n",
    "                                  facecolors =('tab:red'))\n",
    " \n",
    "#plt.savefig(\"gantt1.png\")"
   ]
  },
  {
   "cell_type": "markdown",
   "metadata": {},
   "source": [
    "# Exporting"
   ]
  },
  {
   "cell_type": "markdown",
   "metadata": {},
   "source": [
    "### Exporting an updated json schedule"
   ]
  },
  {
   "cell_type": "code",
   "execution_count": 142,
   "metadata": {},
   "outputs": [],
   "source": [
    "abstractsRawStatic = copy.deepcopy(abstractsRaw)\n",
    "#abstractsRaw = copy.deepcopy(abstractsRawStatic)"
   ]
  },
  {
   "cell_type": "code",
   "execution_count": 148,
   "metadata": {},
   "outputs": [],
   "source": [
    "#Here we iterate through the raw json and update the times for each presentation we sorted.\n",
    "#Then we reorder them according to thier updated times.\n",
    "#Finally, we update the talk order so it is correct.\n",
    "finalSwaps = {}\n",
    "for event in abstractsRaw['meeting']['events']:\n",
    "    #update the times for each abstract in a session\n",
    "    sessionCode = event['id']\n",
    "    finalSwaps[sessionCode] = []\n",
    "    for presentation in event['abstract_presentations']:\n",
    "        _id = \"2021_MARCH_\" + sessionCode +\"_\"+ str(presentation['order'])\n",
    "        for index in abstractsForSorting: #This is not efficient\n",
    "            _idSorted = abstracts[index]['_id']\n",
    "            \n",
    "            if _id == _idSorted:\n",
    "                newTime = abstracts[index]['time_slot']\n",
    "                newStart = newTime[0].strftime('%Y-%m-%dT%H:%M')\n",
    "                newEnd = newTime[1].strftime('%Y-%m-%dT%H:%M')\n",
    "                \n",
    "                presentation['time_slot']['starts_at'] = newStart\n",
    "                presentation['time_slot']['ends_at'] = newEnd\n",
    "    \n",
    "    #Sort the abstracts within a session by start time\n",
    "    newPresentation = [event['abstract_presentations'][0]]\n",
    "    for presA in event['abstract_presentations'][1:]:\n",
    "#         #This block prints out the newPresentation list as it grows for a specific session. For debugging\n",
    "#         if event['id'] == \"L06\":\n",
    "#             for presentation in newPresentation:\n",
    "#                 title = presentation['abstract']['title']\n",
    "#                 order = presentation['order']\n",
    "#                 time_slot = [datetime.strptime(presentation['time_slot']['starts_at'], '%Y-%m-%dT%H:%M'),datetime.strptime(presentation['time_slot']['ends_at'], '%Y-%m-%dT%H:%M')]\n",
    "#                 print(f\"{order} {time_slot[0].hour}:{time_slot[0].minute:02d}-{time_slot[1].hour}:{time_slot[1].minute:02d}\")\n",
    "#                 print(title,\"\\n\")\n",
    "#             print(\"______________________________\")         \n",
    "        inserted = False\n",
    "        startA = datetime.strptime(presA['time_slot']['starts_at'], '%Y-%m-%dT%H:%M')\n",
    "        for i,presB in enumerate(newPresentation):\n",
    "            startB = datetime.strptime(presB['time_slot']['starts_at'], '%Y-%m-%dT%H:%M')\n",
    "            if startB > startA:\n",
    "                newPresentation.insert(i,presA)\n",
    "                inserted = True\n",
    "                break\n",
    "        if not inserted:\n",
    "            newPresentation.append(presA)\n",
    "    \n",
    "    #Update the order numbers\n",
    "    for i,pres in enumerate(newPresentation):\n",
    "        title = pres['abstract']['title']\n",
    "        abstract_presentation_id = pres[\"abstract_presentation_id\"]\n",
    "        oldOrder = pres['order']\n",
    "        newOrder = i+1\n",
    "        pres['order'] = newOrder \n",
    "        finalSwaps[sessionCode].append({\"abstract_presentation_id\":abstract_presentation_id,\"title\":title,\"oldOrder\":oldOrder,\"newOrder\":newOrder})\n",
    "        \n",
    "    \n",
    "    #Overwrite the existing information\n",
    "    event['abstract_presentations'] = newPresentation"
   ]
  },
  {
   "cell_type": "code",
   "execution_count": 149,
   "metadata": {},
   "outputs": [],
   "source": [
    "#This will export the updated schedule JSON\n",
    "fileExtension = \"_sorted\" #file will be exported as whatever the input file is called with this extension appened to the end\n",
    "pathBasename = path[:path.rfind(\".\")]\n",
    "saveName = pathBasename + fileExtension +\".json\"\n",
    "with open(saveName, \"w\") as f:\n",
    "    json.dump(abstractsRaw,f,indent=4)\n",
    "\n",
    "#This will export the swaps information\n",
    "fileExtension = \"_swaps\"    \n",
    "saveName = pathBasename + fileExtension +\".json\"\n",
    "with open(saveName, \"w\") as f:\n",
    "    json.dump(finalSwaps,f,indent=4)"
   ]
  },
  {
   "cell_type": "code",
   "execution_count": null,
   "metadata": {},
   "outputs": [],
   "source": []
  }
 ],
 "metadata": {
  "kernelspec": {
   "display_name": "Python 3",
   "language": "python",
   "name": "python3"
  },
  "language_info": {
   "codemirror_mode": {
    "name": "ipython",
    "version": 3
   },
   "file_extension": ".py",
   "mimetype": "text/x-python",
   "name": "python",
   "nbconvert_exporter": "python",
   "pygments_lexer": "ipython3",
   "version": "3.8.5"
  }
 },
 "nbformat": 4,
 "nbformat_minor": 4
}
